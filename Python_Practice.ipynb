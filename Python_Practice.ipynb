{
 "cells": [
  {
   "cell_type": "code",
   "execution_count": 46,
   "metadata": {},
   "outputs": [
    {
     "name": "stdout",
     "output_type": "stream",
     "text": [
      "['Ballot ID', 'County', 'Candidate']\n"
     ]
    }
   ],
   "source": [
    "import csv\n",
    "#import os\n",
    "#Assign a variable for the file to load the path.\n",
    "file_to_load = 'election_results.csv'\n",
    "#Open the election results and read the file.\n",
    "with open(file_to_load) as election_data:\n",
    "    # Read the file object with the reader function.\n",
    "    file_reader = csv.reader(election_data)\n",
    "    \n",
    "     # Read and print the header row.\n",
    "    headers = next(file_reader)\n",
    "    print(headers)"
   ]
  }
 ],
 "metadata": {
  "interpreter": {
   "hash": "498c80f3c67e706808f448634749fbe67c0c5d853b633e1f4deebaff080b8ff4"
  },
  "kernelspec": {
   "display_name": "Python 3.10.0 64-bit",
   "name": "python3"
  },
  "language_info": {
   "codemirror_mode": {
    "name": "ipython",
    "version": 3
   },
   "file_extension": ".py",
   "mimetype": "text/x-python",
   "name": "python",
   "nbconvert_exporter": "python",
   "pygments_lexer": "ipython3",
   "version": "3.10.0"
  },
  "orig_nbformat": 4
 },
 "nbformat": 4,
 "nbformat_minor": 2
}
